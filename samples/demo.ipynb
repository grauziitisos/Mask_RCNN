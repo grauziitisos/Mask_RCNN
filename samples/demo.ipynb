{
 "cells": [
  {
   "cell_type": "markdown",
   "metadata": {},
   "source": [
    "# Mask R-CNN Demo\n",
    "\n",
    "A quick intro to using the pre-trained model to detect and segment objects."
   ]
  },
  {
   "cell_type": "code",
   "execution_count": null,
   "metadata": {},
   "outputs": [],
   "source": [
    "!pip list"
   ]
  },
  {
   "cell_type": "code",
   "execution_count": null,
   "metadata": {},
   "outputs": [],
   "source": [
    "!pip3 install keras\\<2.3 -U"
   ]
  },
  {
   "cell_type": "code",
   "execution_count": null,
   "metadata": {},
   "outputs": [],
   "source": [
    "!pip3 install numpy\\<1.24 -U"
   ]
  },
  {
   "cell_type": "code",
   "execution_count": null,
   "metadata": {},
   "outputs": [],
   "source": [
    "!mamba install -y pycocotools"
   ]
  },
  {
   "cell_type": "markdown",
   "metadata": {},
   "source": [
    "# Init"
   ]
  },
  {
   "cell_type": "code",
   "execution_count": null,
   "metadata": {},
   "outputs": [],
   "source": [
    "#%tensorflow_version 1.x\n",
    "#!export LD_PRELOAD=$LD_PRELOAD:/root/miniforge3/envs/mask/bin/../lib/libgomp.so.1\n",
    "import os\n",
    "#print(os.environ['LD_PRELOAD'])\n",
    "#os.environ['LD_PRELOAD'] = \"/root/miniforge3/envs/mask/lib/libgomp.so.1\"\n",
    "import sys\n",
    "import random\n",
    "import math\n",
    "import numpy as np\n",
    "import skimage.io\n",
    "import matplotlib\n",
    "import matplotlib.pyplot as plt\n",
    "\n",
    "# Root directory of the project\n",
    "ROOT_DIR = os.path.abspath(\"../\")\n",
    "\n",
    "# Import Mask RCNN\n",
    "sys.path.append(ROOT_DIR)  # To find local version of the library\n",
    "from mrcnn import utils\n",
    "import mrcnn.model as modellib\n",
    "from mrcnn import visualize\n",
    "# Import COCO config\n",
    "sys.path.append(os.path.join(ROOT_DIR, \"samples/coco/\"))  # To find local version\n",
    "import coco\n",
    "\n",
    "#%matplotlib inline \n",
    "\n",
    "# Directory to save logs and trained model\n",
    "MODEL_DIR = os.path.join(ROOT_DIR, \"logs\")\n",
    "\n",
    "# Local path to trained weights file\n",
    "COCO_MODEL_PATH = os.path.join(ROOT_DIR, \"mask_rcnn_coco.h5\")\n",
    "# Download COCO trained weights from Releases if needed\n",
    "if not os.path.exists(COCO_MODEL_PATH):\n",
    "    utils.download_trained_weights(COCO_MODEL_PATH)\n",
    "\n",
    "# Directory of images to run detection on\n",
    "IMAGE_DIR = os.path.join(ROOT_DIR, \"images\")\n",
    "print(\"ready..\")"
   ]
  },
  {
   "cell_type": "markdown",
   "metadata": {},
   "source": [
    "## Configurations\n",
    "\n",
    "We'll be using a model trained on the MS-COCO dataset. The configurations of this model are in the ```CocoConfig``` class in ```coco.py```.\n",
    "\n",
    "For inferencing, modify the configurations a bit to fit the task. To do so, sub-class the ```CocoConfig``` class and override the attributes you need to change."
   ]
  },
  {
   "cell_type": "code",
   "execution_count": null,
   "metadata": {},
   "outputs": [],
   "source": [
    "class InferenceConfig(coco.CocoConfig):\n",
    "    # Set batch size to 1 since we'll be running inference on\n",
    "    # one image at a time. Batch size = GPU_COUNT * IMAGES_PER_GPU\n",
    "    GPU_COUNT = 1\n",
    "    IMAGES_PER_GPU = 1\n",
    "\n",
    "config = InferenceConfig()\n",
    "config.display()\n",
    "print(\"ready..\")"
   ]
  },
  {
   "cell_type": "markdown",
   "metadata": {},
   "source": [
    "## Create Model and Load Trained Weights"
   ]
  },
  {
   "cell_type": "code",
   "execution_count": null,
   "metadata": {},
   "outputs": [],
   "source": [
    "# Create model object in inference mode.\n",
    "model = modellib.MaskRCNN(mode=\"inference\", model_dir=MODEL_DIR, config=config)\n",
    "\n",
    "# Load weights trained on MS-COCO\n",
    "model.load_weights(COCO_MODEL_PATH, by_name=True)\n",
    "print(\"ready..\")"
   ]
  },
  {
   "cell_type": "markdown",
   "metadata": {},
   "source": [
    "## Class Names\n",
    "\n",
    "The model classifies objects and returns class IDs, which are integer value that identify each class. Some datasets assign integer values to their classes and some don't. For example, in the MS-COCO dataset, the 'person' class is 1 and 'teddy bear' is 88. The IDs are often sequential, but not always. The COCO dataset, for example, has classes associated with class IDs 70 and 72, but not 71.\n",
    "\n",
    "To improve consistency, and to support training on data from multiple sources at the same time, our ```Dataset``` class assigns it's own sequential integer IDs to each class. For example, if you load the COCO dataset using our ```Dataset``` class, the 'person' class would get class ID = 1 (just like COCO) and the 'teddy bear' class is 78 (different from COCO). Keep that in mind when mapping class IDs to class names.\n",
    "\n",
    "To get the list of class names, you'd load the dataset and then use the ```class_names``` property like this.\n",
    "```\n",
    "# Load COCO dataset\n",
    "dataset = coco.CocoDataset()\n",
    "dataset.load_coco(COCO_DIR, \"train\")\n",
    "dataset.prepare()\n",
    "\n",
    "# Print class names\n",
    "print(dataset.class_names)\n",
    "```\n",
    "\n",
    "We don't want to require you to download the COCO dataset just to run this demo, so we're including the list of class names below. The index of the class name in the list represent its ID (first class is 0, second is 1, third is 2, ...etc.)"
   ]
  },
  {
   "cell_type": "code",
   "execution_count": null,
   "metadata": {},
   "outputs": [],
   "source": [
    "# COCO Class names\n",
    "# Index of the class in the list is its ID. For example, to get ID of\n",
    "# the teddy bear class, use: class_names.index('teddy bear')\n",
    "class_names = ['BG', 'person', 'bicycle', 'car', 'motorcycle', 'airplane',\n",
    "               'bus', 'train', 'truck', 'boat', 'traffic light',\n",
    "               'fire hydrant', 'stop sign', 'parking meter', 'bench', 'bird',\n",
    "               'cat', 'dog', 'horse', 'sheep', 'cow', 'elephant', 'bear',\n",
    "               'zebra', 'giraffe', 'backpack', 'umbrella', 'handbag', 'tie',\n",
    "               'suitcase', 'frisbee', 'skis', 'snowboard', 'sports ball',\n",
    "               'kite', 'baseball bat', 'baseball glove', 'skateboard',\n",
    "               'surfboard', 'tennis racket', 'bottle', 'wine glass', 'cup',\n",
    "               'fork', 'knife', 'spoon', 'bowl', 'banana', 'apple',\n",
    "               'sandwich', 'orange', 'broccoli', 'carrot', 'hot dog', 'pizza',\n",
    "               'donut', 'cake', 'chair', 'couch', 'potted plant', 'bed',\n",
    "               'dining table', 'toilet', 'tv', 'laptop', 'mouse', 'remote',\n",
    "               'keyboard', 'cell phone', 'microwave', 'oven', 'toaster',\n",
    "               'sink', 'refrigerator', 'book', 'clock', 'vase', 'scissors',\n",
    "               'teddy bear', 'hair drier', 'toothbrush']\n",
    "print(\"ready..\")"
   ]
  },
  {
   "cell_type": "markdown",
   "metadata": {},
   "source": [
    "# Run Object Detection"
   ]
  },
  {
   "cell_type": "code",
   "execution_count": null,
   "metadata": {},
   "outputs": [],
   "source": [
    "#from datetime \n",
    "import datetime\n",
    "import time\n",
    "#from mrcnn import visualize\n",
    "total_fps=0\n",
    "frame_count=0\n",
    "MODEL_NAME_SUFFIX_IMG_NAMING=\"2017-11-26_04-33 matterport Mask_RCNN v2.0\"\n",
    "f = open(f\"{datetime.datetime.now().strftime('%Y-%m-%d_%H-%M-%S')}.txt\", \"a\")\n",
    "for i in range(31):\n",
    "# Load a random image from the images folder\n",
    "    start_time_ms = time.time_ns() // 1_000_000\n",
    "    file_names = next(os.walk(IMAGE_DIR))[2]\n",
    "    image = skimage.io.imread(os.path.join(IMAGE_DIR, random.choice(file_names)))\n",
    "\n",
    "# Run detection\n",
    "    start_forward_ms = time.time_ns() // 1_000_000\n",
    "    results = model.detect([image], verbose=1)\n",
    "    forward_end_time_ms = time.time_ns() // 1_000_000\n",
    "    forward_pass_time_ms = forward_end_time_ms - start_forward_ms\n",
    "    forward_pass_time = forward_pass_time_ms/1000\n",
    "                # Get the current fps.\n",
    "    fps = 1 / (forward_pass_time)\n",
    "                # Add `fps` to `total_fps`.\n",
    "    total_fps += fps\n",
    "                # Increment frame count.\n",
    "    frame_count += 1\n",
    "\n",
    "# Visualize results\n",
    "    r = results[0]\n",
    "    visualize.display_instances(image, r['rois'], r['masks'], r['class_ids'], \n",
    "                            class_names, r['scores'], saveims=True)\n",
    "    final_end_time_ms = time.time_ns() // 1_000_000\n",
    "    forward_and_annot_time = (final_end_time_ms - start_time_ms)/1000\n",
    "    print_string = f\"{datetime.datetime.now().strftime('%Y-%m-%d_%H-%M-%S')} Mdl: {MODEL_NAME_SUFFIX_IMG_NAMING}, Frame: {frame_count}, Forward pass FPS: {fps:.3f}, \"\n",
    "    print_string += f\"Forward pass time: {forward_pass_time:.3f} seconds, \"\n",
    "    print_string += f\"Forward pass + ann + disp time: {forward_and_annot_time:.3f} seconds\\n\"\n",
    "    print(print_string)\n",
    "    f.write(print_string)\n",
    "avg_fps = total_fps / (frame_count if frame_count != 0 else 1)\n",
    "print_string = f\"{datetime.datetime.now().strftime('%Y-%m-%d_%H-%M-%S')} Mdl: {MODEL_NAME_SUFFIX_IMG_NAMING}, Average FPS: {avg_fps:.3f}\"\n",
    "print(print_string)\n",
    "f.write(print_string)\n",
    "f.close()\n",
    "!tmtmtm=$(date +\"%Y-%m-%d_%H-%M-%S\") && mkdir $tmtmtm && mv *.txt *.jpg $tmtmtm/"
   ]
  },
  {
   "cell_type": "markdown",
   "metadata": {},
   "source": [
    "# Run Camera Object Detectoin"
   ]
  },
  {
   "cell_type": "code",
   "execution_count": null,
   "metadata": {
    "scrolled": true
   },
   "outputs": [],
   "source": [
    "#the cam\n",
    "#%matplotlib notebook\n",
    "%matplotlib inline\n",
    "#%matplotlib ipympl\n",
    "CAMERA_TIME_LIMIT_SECONDS = 28800\n",
    "MODEL_NAME_SUFFIX_IMG_NAMING=\"2017-11-26_04-33 matterport Mask_RCNN v2.0\"\n",
    "import cv2\n",
    "import asyncio\n",
    "import time\n",
    "import datetime\n",
    "from mjpeg_streamer import MjpegServer, Stream\n",
    "#720p = 1280 x 720\n",
    "stream = Stream(\"r\", size=(1280, 720), quality=50, fps=25)\n",
    "server = MjpegServer(\"0.0.0.0\", 1050)\n",
    "server.add_stream(stream)\n",
    "server.start()\n",
    "cap = None\n",
    "async def connect_camera():\n",
    "    global cap\n",
    "    print(f\"{datetime.datetime.now().strftime('%Y-%m-%d_%H-%M-%S')} Mdl: {MODEL_NAME_SUFFIX_IMG_NAMING}, seeking the camera...\")\n",
    "    retr_count = 0\n",
    "    while(True):\n",
    "        try:\n",
    "            cap = cv2.VideoCapture(\"http://jtag.me:2727\")\n",
    "            if not cap.isOpened():\n",
    "                print_string = f\"{datetime.datetime.now().strftime('%Y-%m-%d_%H-%M-%S')} Mdl: {MODEL_NAME_SUFFIX_IMG_NAMING}, Error: Could not open MJPEG stream. waiting 1s to retry.\"\n",
    "                if(retr_count <3):\n",
    "                    print(print_string)\n",
    "                    retr_count+= 1\n",
    "                else:\n",
    "                    log_print(print_string, print_string, \"\")\n",
    "                    retr_count = 0\n",
    "                time.sleep(1)\n",
    "                continue\n",
    "            print(f\"{datetime.datetime.now().strftime('%Y-%m-%d_%H-%M-%S')} Mdl: {MODEL_NAME_SUFFIX_IMG_NAMING}, camera found!\")\n",
    "            break\n",
    "        except Exception as ex:\n",
    "            print(ex)\n",
    "            print(f\"{datetime.datetime.now().strftime('%Y-%m-%d_%H-%M-%S')} Mdl: {MODEL_NAME_SUFFIX_IMG_NAMING}, waiting 1s to retry.\")\n",
    "            time.sleep(1)\n",
    "            ...\n",
    "\n",
    "#thebreaker = True\n",
    "fig, ax = plt.subplots(1, figsize=(14, 14))\n",
    "plt.axis('off')\n",
    "plt.subplots_adjust(left=0, right=1, top=1, bottom=0)\n",
    "\n",
    "\n",
    "CAMERA_BEGIN_TIME = time.time()\n",
    "LAST_CAP_FRAME = None\n",
    "async def cameraloop():\n",
    "    global LAST_CAP_FRAME, cap, CAMERA_BEGIN_TIME, CAMERA_TIME_LIMIT_SECONDS, ax\n",
    "    if (cap is None): await connect_camera()\n",
    "    while(True):\n",
    "        if(time.time()-CAMERA_BEGIN_TIME +3 >CAMERA_TIME_LIMIT_SECONDS): return\n",
    "        #print(\"cameraloop\")\n",
    "        # GIL vēl aizvien ir te :(*)\n",
    "        await asyncio.sleep(0)\n",
    "        success, jpg = cap.read()\n",
    "        if not success:\n",
    "            print(f\"{datetime.datetime.now().strftime('%Y-%m-%d_%H-%M-%S')} Mdl: {MODEL_NAME_SUFFIX_IMG_NAMING}, could not read frame.\")\n",
    "            time.sleep(1)\n",
    "            await connect_camera()\n",
    "            #connect_camera()\n",
    "            continue\n",
    "        else:\n",
    "             LAST_CAP_FRAME = jpg\n",
    "\n",
    "oneTime=True\n",
    "async def detectloop():\n",
    "    global LAST_CAP_FRAME, cap, CAMERA_BEGIN_TIME, CAMERA_TIME_LIMIT_SECONDS, ax, stream, oneTime\n",
    "    #print(f\"{datetime.datetime.now().strftime('%Y-%m-%d_%H-%M-%S')} Mdl: {MODEL_NAME_SUFFIX_IMG_NAMING}, detectentry\")\n",
    "    while(True):\n",
    "        if(time.time()-CAMERA_BEGIN_TIME +3 >CAMERA_TIME_LIMIT_SECONDS): return\n",
    "        if(LAST_CAP_FRAME is None):\n",
    "            await asyncio.sleep(1)\n",
    "            continue\n",
    "        results = model.detect([LAST_CAP_FRAME])#, verbose=1)\n",
    "        r = results[0]\n",
    "             #ax.cla()\n",
    "             #plt.clf()\n",
    "        #print(f\"{datetime.datetime.now().strftime('%Y-%m-%d_%H-%M-%S')} Mdl: {MODEL_NAME_SUFFIX_IMG_NAMING}, visualizing...\")\n",
    "        visualize.display_instances(LAST_CAP_FRAME, r['rois'], r['masks'], r['class_ids'], \n",
    "                            class_names, r['scores'], ax=ax, saveims=False)\n",
    "        LAST_CAP_FRAME=None\n",
    "             #fig1.canvas.flush_events()\n",
    "        #w, h = fig.canvas.get_width_height()\n",
    "        #img_np = np.frombuffer(fig.canvas.tostring_rgb(), dtype=np.uint8)\n",
    "        #img_np = img_np.reshape((h, w, 3))\n",
    "        print(f\"{datetime.datetime.now().strftime('%Y-%m-%d_%H-%M-%S')} changing frame\")\n",
    "        if(oneTime):\n",
    "            oneTime = False\n",
    "            plt.show()\n",
    "        fig = ax.get_figure()\n",
    "        fig.canvas.draw()\n",
    "        rgba = fig.canvas.renderer._renderer\n",
    "        ax.cla()\n",
    "\n",
    "        #stream.set_frame(img_np)\n",
    "        stream.set_frame(np.array(rgba))\n",
    "            \n",
    "        #plt.show()\n",
    "\n",
    "async def the_loop():\n",
    "    print(f\"{datetime.datetime.now().strftime('%Y-%m-%d_%H-%M-%S')} Mdl: {MODEL_NAME_SUFFIX_IMG_NAMING}, launching loops...\")\n",
    "    tasks = [\n",
    "        cameraloop(),\n",
    "        detectloop()\n",
    "    ]\n",
    "    await asyncio.gather(*tasks)\n",
    "\n",
    "#await the_loop()\n",
    "#asyncio.run(the_loop())\n",
    "#connect_camera()\n",
    "#cameraloop()\n",
    "\n",
    "tasks = [\n",
    "        cameraloop(),\n",
    "        detectloop()\n",
    "    ]\n",
    "await asyncio.gather(*tasks)\n",
    "server.stop()\n",
    "#cap.release()\n",
    "#cv2.destroyAllWindows()"
   ]
  },
  {
   "cell_type": "code",
   "execution_count": null,
   "metadata": {},
   "outputs": [],
   "source": [
    "%tb"
   ]
  }
 ],
 "metadata": {
  "kernelspec": {
   "display_name": "Mask_RCNN",
   "language": "python",
   "name": "mask"
  },
  "language_info": {
   "codemirror_mode": {
    "name": "ipython",
    "version": 3
   },
   "file_extension": ".py",
   "mimetype": "text/x-python",
   "name": "python",
   "nbconvert_exporter": "python",
   "pygments_lexer": "ipython3",
   "version": "3.8.19"
  }
 },
 "nbformat": 4,
 "nbformat_minor": 4
}
