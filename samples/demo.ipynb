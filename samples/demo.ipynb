{
 "cells": [
  {
   "cell_type": "markdown",
   "metadata": {},
   "source": [
    "# Mask R-CNN Demo\n",
    "\n",
    "A quick intro to using the pre-trained model to detect and segment objects."
   ]
  },
  {
   "cell_type": "code",
   "execution_count": null,
   "metadata": {},
   "outputs": [],
   "source": [
    "!pip list"
   ]
  },
  {
   "cell_type": "code",
   "execution_count": null,
   "metadata": {},
   "outputs": [],
   "source": [
    "!pip3 install keras\\<2.3 -U"
   ]
  },
  {
   "cell_type": "code",
   "execution_count": null,
   "metadata": {},
   "outputs": [],
   "source": [
    "!pip3 install numpy\\<1.24 -U"
   ]
  },
  {
   "cell_type": "code",
   "execution_count": null,
   "metadata": {},
   "outputs": [],
   "source": [
    "!mamba install -y pycocotools"
   ]
  },
  {
   "cell_type": "markdown",
   "metadata": {},
   "source": [
    "# Init"
   ]
  },
  {
   "cell_type": "code",
   "execution_count": 1,
   "metadata": {},
   "outputs": [
    {
     "name": "stdout",
     "output_type": "stream",
     "text": [
      "WARNING:tensorflow:Deprecation warnings have been disabled. Set TF_ENABLE_DEPRECATION_WARNINGS=1 to re-enable them.\n"
     ]
    },
    {
     "name": "stderr",
     "output_type": "stream",
     "text": [
      "2024-04-10 19:09:53.918476: I tensorflow/stream_executor/platform/default/dso_loader.cc:49] Successfully opened dynamic library libcudart.so.11.0\n",
      "Using TensorFlow backend.\n"
     ]
    },
    {
     "name": "stdout",
     "output_type": "stream",
     "text": [
      "ready..\n"
     ]
    }
   ],
   "source": [
    "#%tensorflow_version 1.x\n",
    "#!export LD_PRELOAD=$LD_PRELOAD:/root/miniforge3/envs/mask/bin/../lib/libgomp.so.1\n",
    "import os\n",
    "#print(os.environ['LD_PRELOAD'])\n",
    "#os.environ['LD_PRELOAD'] = \"/root/miniforge3/envs/mask/lib/libgomp.so.1\"\n",
    "import sys\n",
    "import random\n",
    "import math\n",
    "import numpy as np\n",
    "import skimage.io\n",
    "import matplotlib\n",
    "import matplotlib.pyplot as plt\n",
    "\n",
    "# Root directory of the project\n",
    "ROOT_DIR = os.path.abspath(\"../\")\n",
    "\n",
    "# Import Mask RCNN\n",
    "sys.path.append(ROOT_DIR)  # To find local version of the library\n",
    "from mrcnn import utils\n",
    "import mrcnn.model as modellib\n",
    "from mrcnn import visualize\n",
    "# Import COCO config\n",
    "sys.path.append(os.path.join(ROOT_DIR, \"samples/coco/\"))  # To find local version\n",
    "import coco\n",
    "\n",
    "#%matplotlib inline \n",
    "\n",
    "# Directory to save logs and trained model\n",
    "MODEL_DIR = os.path.join(ROOT_DIR, \"logs\")\n",
    "\n",
    "# Local path to trained weights file\n",
    "COCO_MODEL_PATH = os.path.join(ROOT_DIR, \"mask_rcnn_coco.h5\")\n",
    "# Download COCO trained weights from Releases if needed\n",
    "if not os.path.exists(COCO_MODEL_PATH):\n",
    "    utils.download_trained_weights(COCO_MODEL_PATH)\n",
    "\n",
    "# Directory of images to run detection on\n",
    "IMAGE_DIR = os.path.join(ROOT_DIR, \"images\")\n",
    "print(\"ready..\")"
   ]
  },
  {
   "cell_type": "markdown",
   "metadata": {},
   "source": [
    "## Configurations\n",
    "\n",
    "We'll be using a model trained on the MS-COCO dataset. The configurations of this model are in the ```CocoConfig``` class in ```coco.py```.\n",
    "\n",
    "For inferencing, modify the configurations a bit to fit the task. To do so, sub-class the ```CocoConfig``` class and override the attributes you need to change."
   ]
  },
  {
   "cell_type": "code",
   "execution_count": 2,
   "metadata": {},
   "outputs": [
    {
     "name": "stdout",
     "output_type": "stream",
     "text": [
      "\n",
      "Configurations:\n",
      "BACKBONE                       resnet101\n",
      "BACKBONE_STRIDES               [4, 8, 16, 32, 64]\n",
      "BATCH_SIZE                     1\n",
      "BBOX_STD_DEV                   [0.1 0.1 0.2 0.2]\n",
      "COMPUTE_BACKBONE_SHAPE         None\n",
      "DETECTION_MAX_INSTANCES        100\n",
      "DETECTION_MIN_CONFIDENCE       0.7\n",
      "DETECTION_NMS_THRESHOLD        0.3\n",
      "FPN_CLASSIF_FC_LAYERS_SIZE     1024\n",
      "GPU_COUNT                      1\n",
      "GRADIENT_CLIP_NORM             5.0\n",
      "IMAGES_PER_GPU                 1\n",
      "IMAGE_CHANNEL_COUNT            3\n",
      "IMAGE_MAX_DIM                  1024\n",
      "IMAGE_META_SIZE                93\n",
      "IMAGE_MIN_DIM                  800\n",
      "IMAGE_MIN_SCALE                0\n",
      "IMAGE_RESIZE_MODE              square\n",
      "IMAGE_SHAPE                    [1024 1024    3]\n",
      "LEARNING_MOMENTUM              0.9\n",
      "LEARNING_RATE                  0.001\n",
      "LOSS_WEIGHTS                   {'rpn_class_loss': 1.0, 'rpn_bbox_loss': 1.0, 'mrcnn_class_loss': 1.0, 'mrcnn_bbox_loss': 1.0, 'mrcnn_mask_loss': 1.0}\n",
      "MASK_POOL_SIZE                 14\n",
      "MASK_SHAPE                     [28, 28]\n",
      "MAX_GT_INSTANCES               100\n",
      "MEAN_PIXEL                     [123.7 116.8 103.9]\n",
      "MINI_MASK_SHAPE                (56, 56)\n",
      "NAME                           coco\n",
      "NUM_CLASSES                    81\n",
      "POOL_SIZE                      7\n",
      "POST_NMS_ROIS_INFERENCE        1000\n",
      "POST_NMS_ROIS_TRAINING         2000\n",
      "PRE_NMS_LIMIT                  6000\n",
      "ROI_POSITIVE_RATIO             0.33\n",
      "RPN_ANCHOR_RATIOS              [0.5, 1, 2]\n",
      "RPN_ANCHOR_SCALES              (32, 64, 128, 256, 512)\n",
      "RPN_ANCHOR_STRIDE              1\n",
      "RPN_BBOX_STD_DEV               [0.1 0.1 0.2 0.2]\n",
      "RPN_NMS_THRESHOLD              0.7\n",
      "RPN_TRAIN_ANCHORS_PER_IMAGE    256\n",
      "STEPS_PER_EPOCH                1000\n",
      "TOP_DOWN_PYRAMID_SIZE          256\n",
      "TRAIN_BN                       False\n",
      "TRAIN_ROIS_PER_IMAGE           200\n",
      "USE_MINI_MASK                  True\n",
      "USE_RPN_ROIS                   True\n",
      "VALIDATION_STEPS               50\n",
      "WEIGHT_DECAY                   0.0001\n",
      "\n",
      "\n",
      "ready..\n"
     ]
    }
   ],
   "source": [
    "class InferenceConfig(coco.CocoConfig):\n",
    "    # Set batch size to 1 since we'll be running inference on\n",
    "    # one image at a time. Batch size = GPU_COUNT * IMAGES_PER_GPU\n",
    "    GPU_COUNT = 1\n",
    "    IMAGES_PER_GPU = 1\n",
    "\n",
    "config = InferenceConfig()\n",
    "config.display()\n",
    "print(\"ready..\")"
   ]
  },
  {
   "cell_type": "markdown",
   "metadata": {},
   "source": [
    "## Create Model and Load Trained Weights"
   ]
  },
  {
   "cell_type": "code",
   "execution_count": 3,
   "metadata": {},
   "outputs": [
    {
     "name": "stdout",
     "output_type": "stream",
     "text": [
      "WARNING:tensorflow:From /root/miniforge3/envs/mask/lib/python3.8/site-packages/keras/backend/tensorflow_backend.py:541: The name tf.placeholder is deprecated. Please use tf.compat.v1.placeholder instead.\n",
      "\n",
      "WARNING:tensorflow:From /root/miniforge3/envs/mask/lib/python3.8/site-packages/keras/backend/tensorflow_backend.py:66: The name tf.get_default_graph is deprecated. Please use tf.compat.v1.get_default_graph instead.\n",
      "\n",
      "WARNING:tensorflow:From /root/miniforge3/envs/mask/lib/python3.8/site-packages/keras/backend/tensorflow_backend.py:4432: The name tf.random_uniform is deprecated. Please use tf.random.uniform instead.\n",
      "\n",
      "WARNING:tensorflow:From /root/miniforge3/envs/mask/lib/python3.8/site-packages/keras/backend/tensorflow_backend.py:2139: The name tf.nn.fused_batch_norm is deprecated. Please use tf.compat.v1.nn.fused_batch_norm instead.\n",
      "\n",
      "WARNING:tensorflow:From /root/miniforge3/envs/mask/lib/python3.8/site-packages/keras/backend/tensorflow_backend.py:4267: The name tf.nn.max_pool is deprecated. Please use tf.nn.max_pool2d instead.\n",
      "\n",
      "WARNING:tensorflow:From /root/miniforge3/envs/mask/lib/python3.8/site-packages/keras/backend/tensorflow_backend.py:2239: The name tf.image.resize_nearest_neighbor is deprecated. Please use tf.compat.v1.image.resize_nearest_neighbor instead.\n",
      "\n",
      "WARNING:tensorflow:From /Mask_RCNN/mrcnn/model.py:341: The name tf.log is deprecated. Please use tf.math.log instead.\n",
      "\n",
      "WARNING:tensorflow:From /Mask_RCNN/mrcnn/model.py:720: The name tf.sets.set_intersection is deprecated. Please use tf.sets.intersection instead.\n",
      "\n",
      "WARNING:tensorflow:From /Mask_RCNN/mrcnn/model.py:722: The name tf.sparse_tensor_to_dense is deprecated. Please use tf.sparse.to_dense instead.\n",
      "\n",
      "WARNING:tensorflow:From /root/miniforge3/envs/mask/lib/python3.8/site-packages/keras/backend/tensorflow_backend.py:190: The name tf.get_default_session is deprecated. Please use tf.compat.v1.get_default_session instead.\n",
      "\n",
      "WARNING:tensorflow:From /root/miniforge3/envs/mask/lib/python3.8/site-packages/keras/backend/tensorflow_backend.py:197: The name tf.ConfigProto is deprecated. Please use tf.compat.v1.ConfigProto instead.\n",
      "\n",
      "WARNING:tensorflow:From /root/miniforge3/envs/mask/lib/python3.8/site-packages/keras/backend/tensorflow_backend.py:203: The name tf.Session is deprecated. Please use tf.compat.v1.Session instead.\n",
      "\n"
     ]
    },
    {
     "name": "stderr",
     "output_type": "stream",
     "text": [
      "2024-04-10 19:10:07.023965: I tensorflow/core/platform/profile_utils/cpu_utils.cc:109] CPU Frequency: 31250000 Hz\n",
      "2024-04-10 19:10:07.026453: I tensorflow/compiler/xla/service/service.cc:168] XLA service 0xaaaae1bd8bc0 initialized for platform Host (this does not guarantee that XLA will be used). Devices:\n",
      "2024-04-10 19:10:07.026602: I tensorflow/compiler/xla/service/service.cc:176]   StreamExecutor device (0): Host, Default Version\n",
      "2024-04-10 19:10:07.041055: I tensorflow/stream_executor/platform/default/dso_loader.cc:49] Successfully opened dynamic library libcuda.so.1\n",
      "2024-04-10 19:10:07.177317: I tensorflow/stream_executor/cuda/cuda_gpu_executor.cc:1049] ARM64 does not support NUMA - returning NUMA node zero\n",
      "2024-04-10 19:10:07.177951: I tensorflow/compiler/xla/service/service.cc:168] XLA service 0xaaaae2612720 initialized for platform CUDA (this does not guarantee that XLA will be used). Devices:\n",
      "2024-04-10 19:10:07.178065: I tensorflow/compiler/xla/service/service.cc:176]   StreamExecutor device (0): Xavier, Compute Capability 7.2\n",
      "2024-04-10 19:10:07.178997: I tensorflow/stream_executor/cuda/cuda_gpu_executor.cc:1049] ARM64 does not support NUMA - returning NUMA node zero\n",
      "2024-04-10 19:10:07.179262: I tensorflow/core/common_runtime/gpu/gpu_device.cc:1666] Found device 0 with properties: \n",
      "name: Xavier major: 7 minor: 2 memoryClockRate(GHz): 1.377\n",
      "pciBusID: 0000:00:00.0\n",
      "2024-04-10 19:10:07.179542: I tensorflow/stream_executor/platform/default/dso_loader.cc:49] Successfully opened dynamic library libcudart.so.11.0\n",
      "2024-04-10 19:10:07.194613: I tensorflow/stream_executor/platform/default/dso_loader.cc:49] Successfully opened dynamic library libcublas.so.11\n",
      "2024-04-10 19:10:07.254731: I tensorflow/stream_executor/platform/default/dso_loader.cc:49] Successfully opened dynamic library libcufft.so.10\n",
      "2024-04-10 19:10:07.256544: I tensorflow/stream_executor/platform/default/dso_loader.cc:49] Successfully opened dynamic library libcurand.so.10\n",
      "2024-04-10 19:10:07.259198: I tensorflow/stream_executor/platform/default/dso_loader.cc:49] Successfully opened dynamic library libcusolver.so.11\n",
      "2024-04-10 19:10:07.263289: I tensorflow/stream_executor/platform/default/dso_loader.cc:49] Successfully opened dynamic library libcusparse.so.11\n",
      "2024-04-10 19:10:07.264298: I tensorflow/stream_executor/platform/default/dso_loader.cc:49] Successfully opened dynamic library libcudnn.so.8\n",
      "2024-04-10 19:10:07.265116: I tensorflow/stream_executor/cuda/cuda_gpu_executor.cc:1049] ARM64 does not support NUMA - returning NUMA node zero\n",
      "2024-04-10 19:10:07.265724: I tensorflow/stream_executor/cuda/cuda_gpu_executor.cc:1049] ARM64 does not support NUMA - returning NUMA node zero\n",
      "2024-04-10 19:10:07.266047: I tensorflow/core/common_runtime/gpu/gpu_device.cc:1794] Adding visible gpu devices: 0\n",
      "2024-04-10 19:10:07.266226: I tensorflow/stream_executor/platform/default/dso_loader.cc:49] Successfully opened dynamic library libcudart.so.11.0\n"
     ]
    },
    {
     "name": "stdout",
     "output_type": "stream",
     "text": [
      "WARNING:tensorflow:From /root/miniforge3/envs/mask/lib/python3.8/site-packages/keras/backend/tensorflow_backend.py:207: The name tf.global_variables is deprecated. Please use tf.compat.v1.global_variables instead.\n",
      "\n",
      "WARNING:tensorflow:From /root/miniforge3/envs/mask/lib/python3.8/site-packages/keras/backend/tensorflow_backend.py:216: The name tf.is_variable_initialized is deprecated. Please use tf.compat.v1.is_variable_initialized instead.\n",
      "\n"
     ]
    },
    {
     "name": "stderr",
     "output_type": "stream",
     "text": [
      "2024-04-10 19:10:08.287649: I tensorflow/core/common_runtime/gpu/gpu_device.cc:1206] Device interconnect StreamExecutor with strength 1 edge matrix:\n",
      "2024-04-10 19:10:08.287817: I tensorflow/core/common_runtime/gpu/gpu_device.cc:1212]      0 \n",
      "2024-04-10 19:10:08.287866: I tensorflow/core/common_runtime/gpu/gpu_device.cc:1225] 0:   N \n",
      "2024-04-10 19:10:08.288647: I tensorflow/stream_executor/cuda/cuda_gpu_executor.cc:1049] ARM64 does not support NUMA - returning NUMA node zero\n",
      "2024-04-10 19:10:08.289296: I tensorflow/stream_executor/cuda/cuda_gpu_executor.cc:1049] ARM64 does not support NUMA - returning NUMA node zero\n",
      "2024-04-10 19:10:08.289556: I tensorflow/core/common_runtime/gpu/gpu_device.cc:1351] Created TensorFlow device (/job:localhost/replica:0/task:0/device:GPU:0 with 22432 MB memory) -> physical GPU (device: 0, name: Xavier, pci bus id: 0000:00:00.0, compute capability: 7.2)\n"
     ]
    },
    {
     "name": "stdout",
     "output_type": "stream",
     "text": [
      "WARNING:tensorflow:From /root/miniforge3/envs/mask/lib/python3.8/site-packages/keras/backend/tensorflow_backend.py:223: The name tf.variables_initializer is deprecated. Please use tf.compat.v1.variables_initializer instead.\n",
      "\n",
      "ready..\n"
     ]
    }
   ],
   "source": [
    "# Create model object in inference mode.\n",
    "model = modellib.MaskRCNN(mode=\"inference\", model_dir=MODEL_DIR, config=config)\n",
    "\n",
    "# Load weights trained on MS-COCO\n",
    "model.load_weights(COCO_MODEL_PATH, by_name=True)\n",
    "print(\"ready..\")"
   ]
  },
  {
   "cell_type": "markdown",
   "metadata": {},
   "source": [
    "## Class Names\n",
    "\n",
    "The model classifies objects and returns class IDs, which are integer value that identify each class. Some datasets assign integer values to their classes and some don't. For example, in the MS-COCO dataset, the 'person' class is 1 and 'teddy bear' is 88. The IDs are often sequential, but not always. The COCO dataset, for example, has classes associated with class IDs 70 and 72, but not 71.\n",
    "\n",
    "To improve consistency, and to support training on data from multiple sources at the same time, our ```Dataset``` class assigns it's own sequential integer IDs to each class. For example, if you load the COCO dataset using our ```Dataset``` class, the 'person' class would get class ID = 1 (just like COCO) and the 'teddy bear' class is 78 (different from COCO). Keep that in mind when mapping class IDs to class names.\n",
    "\n",
    "To get the list of class names, you'd load the dataset and then use the ```class_names``` property like this.\n",
    "```\n",
    "# Load COCO dataset\n",
    "dataset = coco.CocoDataset()\n",
    "dataset.load_coco(COCO_DIR, \"train\")\n",
    "dataset.prepare()\n",
    "\n",
    "# Print class names\n",
    "print(dataset.class_names)\n",
    "```\n",
    "\n",
    "We don't want to require you to download the COCO dataset just to run this demo, so we're including the list of class names below. The index of the class name in the list represent its ID (first class is 0, second is 1, third is 2, ...etc.)"
   ]
  },
  {
   "cell_type": "code",
   "execution_count": 4,
   "metadata": {},
   "outputs": [
    {
     "name": "stdout",
     "output_type": "stream",
     "text": [
      "ready..\n"
     ]
    }
   ],
   "source": [
    "# COCO Class names\n",
    "# Index of the class in the list is its ID. For example, to get ID of\n",
    "# the teddy bear class, use: class_names.index('teddy bear')\n",
    "class_names = ['BG', 'person', 'bicycle', 'car', 'motorcycle', 'airplane',\n",
    "               'bus', 'train', 'truck', 'boat', 'traffic light',\n",
    "               'fire hydrant', 'stop sign', 'parking meter', 'bench', 'bird',\n",
    "               'cat', 'dog', 'horse', 'sheep', 'cow', 'elephant', 'bear',\n",
    "               'zebra', 'giraffe', 'backpack', 'umbrella', 'handbag', 'tie',\n",
    "               'suitcase', 'frisbee', 'skis', 'snowboard', 'sports ball',\n",
    "               'kite', 'baseball bat', 'baseball glove', 'skateboard',\n",
    "               'surfboard', 'tennis racket', 'bottle', 'wine glass', 'cup',\n",
    "               'fork', 'knife', 'spoon', 'bowl', 'banana', 'apple',\n",
    "               'sandwich', 'orange', 'broccoli', 'carrot', 'hot dog', 'pizza',\n",
    "               'donut', 'cake', 'chair', 'couch', 'potted plant', 'bed',\n",
    "               'dining table', 'toilet', 'tv', 'laptop', 'mouse', 'remote',\n",
    "               'keyboard', 'cell phone', 'microwave', 'oven', 'toaster',\n",
    "               'sink', 'refrigerator', 'book', 'clock', 'vase', 'scissors',\n",
    "               'teddy bear', 'hair drier', 'toothbrush']\n",
    "print(\"ready..\")"
   ]
  },
  {
   "cell_type": "markdown",
   "metadata": {},
   "source": [
    "# Run Object Detection"
   ]
  },
  {
   "cell_type": "code",
   "execution_count": null,
   "metadata": {},
   "outputs": [],
   "source": [
    "#from datetime \n",
    "import datetime\n",
    "import time\n",
    "#from mrcnn import visualize\n",
    "total_fps=0\n",
    "frame_count=0\n",
    "MODEL_NAME_SUFFIX_IMG_NAMING=\"2017-11-26_04-33 matterport Mask_RCNN v2.0\"\n",
    "f = open(f\"{datetime.datetime.now().strftime('%Y-%m-%d_%H-%M-%S')}.txt\", \"a\")\n",
    "for i in range(31):\n",
    "# Load a random image from the images folder\n",
    "    start_time_ms = time.time_ns() // 1_000_000\n",
    "    file_names = next(os.walk(IMAGE_DIR))[2]\n",
    "    image = skimage.io.imread(os.path.join(IMAGE_DIR, random.choice(file_names)))\n",
    "\n",
    "# Run detection\n",
    "    start_forward_ms = time.time_ns() // 1_000_000\n",
    "    results = model.detect([image], verbose=1)\n",
    "    forward_end_time_ms = time.time_ns() // 1_000_000\n",
    "    forward_pass_time_ms = forward_end_time_ms - start_forward_ms\n",
    "    forward_pass_time = forward_pass_time_ms/1000\n",
    "                # Get the current fps.\n",
    "    fps = 1 / (forward_pass_time)\n",
    "                # Add `fps` to `total_fps`.\n",
    "    total_fps += fps\n",
    "                # Increment frame count.\n",
    "    frame_count += 1\n",
    "\n",
    "# Visualize results\n",
    "    r = results[0]\n",
    "    visualize.display_instances(image, r['rois'], r['masks'], r['class_ids'], \n",
    "                            class_names, r['scores'], saveims=True)\n",
    "    final_end_time_ms = time.time_ns() // 1_000_000\n",
    "    forward_and_annot_time = (final_end_time_ms - start_time_ms)/1000\n",
    "    print_string = f\"{datetime.datetime.now().strftime('%Y-%m-%d_%H-%M-%S')} Mdl: {MODEL_NAME_SUFFIX_IMG_NAMING}, Frame: {frame_count}, Forward pass FPS: {fps:.3f}, \"\n",
    "    print_string += f\"Forward pass time: {forward_pass_time:.3f} seconds, \"\n",
    "    print_string += f\"Forward pass + ann + disp time: {forward_and_annot_time:.3f} seconds\\n\"\n",
    "    print(print_string)\n",
    "    f.write(print_string)\n",
    "avg_fps = total_fps / (frame_count if frame_count != 0 else 1)\n",
    "print_string = f\"{datetime.datetime.now().strftime('%Y-%m-%d_%H-%M-%S')} Mdl: {MODEL_NAME_SUFFIX_IMG_NAMING}, Average FPS: {avg_fps:.3f}\"\n",
    "print(print_string)\n",
    "f.write(print_string)\n",
    "f.close()\n",
    "!tmtmtm=$(date +\"%Y-%m-%d_%H-%M-%S\") && mkdir $tmtmtm && mv *.txt *.jpg $tmtmtm/"
   ]
  },
  {
   "cell_type": "markdown",
   "metadata": {},
   "source": [
    "# Run Camera Object Detectoin"
   ]
  },
  {
   "cell_type": "code",
   "execution_count": null,
   "metadata": {
    "scrolled": true
   },
   "outputs": [
    {
     "name": "stdout",
     "output_type": "stream",
     "text": [
      "\n",
      "Streams index: http://127.0.0.1:1050\n",
      "Available streams:\n",
      "\n",
      "http://127.0.0.1:1050/r\n",
      "--------------------------------\n",
      "\n",
      "\n",
      "Streams index: http://10.17.33.244:1050\n",
      "Available streams:\n",
      "\n",
      "http://10.17.33.244:1050/r\n",
      "--------------------------------\n",
      "\n",
      "\n",
      "Streams index: http://172.17.0.1:1050\n",
      "Available streams:\n",
      "\n",
      "http://172.17.0.1:1050/r\n",
      "--------------------------------\n",
      "\n",
      "\n",
      "Press Ctrl+C to stop the server\n",
      "\n",
      "2024-04-10_19-10-39 Mdl: 2017-11-26_04-33 matterport Mask_RCNN v2.0, seeking the camera...\n",
      "2024-04-10_19-10-40 Mdl: 2017-11-26_04-33 matterport Mask_RCNN v2.0, camera found!\n"
     ]
    },
    {
     "name": "stderr",
     "output_type": "stream",
     "text": [
      "2024-04-10 19:10:45.421452: I tensorflow/stream_executor/platform/default/dso_loader.cc:49] Successfully opened dynamic library libcublas.so.11\n",
      "2024-04-10 19:10:46.485724: I tensorflow/stream_executor/platform/default/dso_loader.cc:49] Successfully opened dynamic library libcudnn.so.8\n"
     ]
    }
   ],
   "source": [
    "#the cam\n",
    "#%matplotlib notebook\n",
    "%matplotlib inline\n",
    "#%matplotlib ipympl\n",
    "CAMERA_TIME_LIMIT_SECONDS = 28800\n",
    "MODEL_NAME_SUFFIX_IMG_NAMING=\"2017-11-26_04-33 matterport Mask_RCNN v2.0\"\n",
    "import cv2\n",
    "import asyncio\n",
    "import time\n",
    "import datetime\n",
    "from mjpeg_streamer import MjpegServer, Stream\n",
    "#720p = 1280 x 720\n",
    "stream = Stream(\"r\", size=(1280, 720), quality=50, fps=25)\n",
    "server = MjpegServer(\"0.0.0.0\", 1050)\n",
    "server.add_stream(stream)\n",
    "server.start()\n",
    "cap = None\n",
    "async def connect_camera():\n",
    "    global cap\n",
    "    print(f\"{datetime.datetime.now().strftime('%Y-%m-%d_%H-%M-%S')} Mdl: {MODEL_NAME_SUFFIX_IMG_NAMING}, seeking the camera...\")\n",
    "    retr_count = 0\n",
    "    while(True):\n",
    "        try:\n",
    "            cap = cv2.VideoCapture(\"http://jtag.me:2727\")\n",
    "            if not cap.isOpened():\n",
    "                print_string = f\"{datetime.datetime.now().strftime('%Y-%m-%d_%H-%M-%S')} Mdl: {MODEL_NAME_SUFFIX_IMG_NAMING}, Error: Could not open MJPEG stream. waiting 1s to retry.\"\n",
    "                if(retr_count <3):\n",
    "                    print(print_string)\n",
    "                    retr_count+= 1\n",
    "                else:\n",
    "                    log_print(print_string, print_string, \"\")\n",
    "                    retr_count = 0\n",
    "                time.sleep(1)\n",
    "                continue\n",
    "            print(f\"{datetime.datetime.now().strftime('%Y-%m-%d_%H-%M-%S')} Mdl: {MODEL_NAME_SUFFIX_IMG_NAMING}, camera found!\")\n",
    "            break\n",
    "        except Exception as ex:\n",
    "            print(ex)\n",
    "            print(f\"{datetime.datetime.now().strftime('%Y-%m-%d_%H-%M-%S')} Mdl: {MODEL_NAME_SUFFIX_IMG_NAMING}, waiting 1s to retry.\")\n",
    "            time.sleep(1)\n",
    "            ...\n",
    "\n",
    "#thebreaker = True\n",
    "fig, ax = plt.subplots(1, figsize=(14, 14))\n",
    "plt.axis('off')\n",
    "plt.subplots_adjust(left=0, right=1, top=1, bottom=0)\n",
    "\n",
    "\n",
    "CAMERA_BEGIN_TIME = time.time()\n",
    "LAST_CAP_FRAME = None\n",
    "async def cameraloop():\n",
    "    global LAST_CAP_FRAME, cap, CAMERA_BEGIN_TIME, CAMERA_TIME_LIMIT_SECONDS, ax\n",
    "    if (cap is None): await connect_camera()\n",
    "    while(True):\n",
    "        if(time.time()-CAMERA_BEGIN_TIME +3 >CAMERA_TIME_LIMIT_SECONDS): return\n",
    "        #print(\"cameraloop\")\n",
    "        # GIL vēl aizvien ir te :(*)\n",
    "        await asyncio.sleep(0)\n",
    "        success, jpg = cap.read()\n",
    "        if not success:\n",
    "            print(f\"{datetime.datetime.now().strftime('%Y-%m-%d_%H-%M-%S')} Mdl: {MODEL_NAME_SUFFIX_IMG_NAMING}, could not read frame.\")\n",
    "            time.sleep(1)\n",
    "            await connect_camera()\n",
    "            #connect_camera()\n",
    "            continue\n",
    "        else:\n",
    "             LAST_CAP_FRAME = jpg\n",
    "\n",
    "oneTime=True\n",
    "async def detectloop():\n",
    "    global LAST_CAP_FRAME, cap, CAMERA_BEGIN_TIME, CAMERA_TIME_LIMIT_SECONDS, ax, stream, oneTime\n",
    "    #print(f\"{datetime.datetime.now().strftime('%Y-%m-%d_%H-%M-%S')} Mdl: {MODEL_NAME_SUFFIX_IMG_NAMING}, detectentry\")\n",
    "    while(True):\n",
    "        if(time.time()-CAMERA_BEGIN_TIME +3 >CAMERA_TIME_LIMIT_SECONDS): return\n",
    "        if(LAST_CAP_FRAME is None):\n",
    "            await asyncio.sleep(1)\n",
    "            continue\n",
    "        results = model.detect([LAST_CAP_FRAME])#, verbose=1)\n",
    "        r = results[0]\n",
    "             #ax.cla()\n",
    "             #plt.clf()\n",
    "        #print(f\"{datetime.datetime.now().strftime('%Y-%m-%d_%H-%M-%S')} Mdl: {MODEL_NAME_SUFFIX_IMG_NAMING}, visualizing...\")\n",
    "        visualize.display_instances(LAST_CAP_FRAME, r['rois'], r['masks'], r['class_ids'], \n",
    "                            class_names, r['scores'], ax=ax, saveims=False)\n",
    "        LAST_CAP_FRAME=None\n",
    "             #fig1.canvas.flush_events()\n",
    "        #w, h = fig.canvas.get_width_height()\n",
    "        #img_np = np.frombuffer(fig.canvas.tostring_rgb(), dtype=np.uint8)\n",
    "        #img_np = img_np.reshape((h, w, 3))\n",
    "        print(f\"{datetime.datetime.now().strftime('%Y-%m-%d_%H-%M-%S')} changing frame\")\n",
    "        if(oneTime):\n",
    "            oneTime = False\n",
    "            plt.show()\n",
    "        fig = ax.get_figure()\n",
    "        fig.canvas.draw()\n",
    "        rgba = fig.canvas.renderer._renderer\n",
    "        ax.cla()\n",
    "\n",
    "        #stream.set_frame(img_np)\n",
    "        stream.set_frame(np.array(rgba))\n",
    "            \n",
    "        #plt.show()\n",
    "\n",
    "async def the_loop():\n",
    "    print(f\"{datetime.datetime.now().strftime('%Y-%m-%d_%H-%M-%S')} Mdl: {MODEL_NAME_SUFFIX_IMG_NAMING}, launching loops...\")\n",
    "    tasks = [\n",
    "        cameraloop(),\n",
    "        detectloop()\n",
    "    ]\n",
    "    await asyncio.gather(*tasks)\n",
    "\n",
    "#await the_loop()\n",
    "#asyncio.run(the_loop())\n",
    "#connect_camera()\n",
    "#cameraloop()\n",
    "\n",
    "tasks = [\n",
    "        cameraloop(),\n",
    "        detectloop()\n",
    "    ]\n",
    "await asyncio.gather(*tasks)\n",
    "server.stop()\n",
    "#cap.release()\n",
    "#cv2.destroyAllWindows()"
   ]
  },
  {
   "cell_type": "code",
   "execution_count": null,
   "metadata": {},
   "outputs": [],
   "source": [
    "%tb"
   ]
  }
 ],
 "metadata": {
  "kernelspec": {
   "display_name": "Mask_RCNN",
   "language": "python",
   "name": "mask"
  },
  "language_info": {
   "codemirror_mode": {
    "name": "ipython",
    "version": 3
   },
   "file_extension": ".py",
   "mimetype": "text/x-python",
   "name": "python",
   "nbconvert_exporter": "python",
   "pygments_lexer": "ipython3",
   "version": "3.8.19"
  }
 },
 "nbformat": 4,
 "nbformat_minor": 4
}
